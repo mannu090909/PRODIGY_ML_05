{
 "cells": [
  {
   "cell_type": "markdown",
   "id": "1e386895",
   "metadata": {},
   "source": [
    "# 🍽️ Task-05: Food Recognition and Calorie Estimation\n",
    "This notebook builds a CNN model to classify food images from the [Food-101 dataset](https://www.kaggle.com/dansbecker/food-101) and estimates calorie values for each class to help track dietary intake."
   ]
  },
  {
   "cell_type": "markdown",
   "id": "5cbec5e4",
   "metadata": {},
   "source": [
    "## 📥 1. Setup & Kaggle Dataset Download"
   ]
  },
  {
   "cell_type": "code",
   "execution_count": null,
   "id": "ce350038",
   "metadata": {},
   "outputs": [],
   "source": [
    "# Install Kaggle and set up API key (Upload kaggle.json manually before running this)\n",
    "!pip install -q kaggle\n",
    "\n",
    "# Upload kaggle.json (from your Kaggle account)\n",
    "from google.colab import files\n",
    "files.upload()\n",
    "\n",
    "# Move kaggle.json to correct path\n",
    "!mkdir -p ~/.kaggle\n",
    "!cp kaggle.json ~/.kaggle/\n",
    "!chmod 600 ~/.kaggle/kaggle.json\n",
    "\n",
    "# Download Food-101 dataset\n",
    "!kaggle datasets download -d dansbecker/food-101\n",
    "!unzip -q food-101.zip\n"
   ]
  },
  {
   "cell_type": "markdown",
   "id": "ff711afd",
   "metadata": {},
   "source": [
    "## 🧹 2. Preprocess the Dataset"
   ]
  },
  {
   "cell_type": "code",
   "execution_count": null,
   "id": "f40a0a40",
   "metadata": {},
   "outputs": [],
   "source": [
    "import os\n",
    "import numpy as np\n",
    "import tensorflow as tf\n",
    "from tensorflow.keras.preprocessing.image import ImageDataGenerator\n",
    "from sklearn.preprocessing import LabelEncoder\n",
    "\n",
    "# Paths\n",
    "data_dir = 'food-101/images'\n",
    "\n",
    "# Image Data Generator for training and validation\n",
    "train_datagen = ImageDataGenerator(rescale=1./255, validation_split=0.2)\n",
    "\n",
    "train_generator = train_datagen.flow_from_directory(\n",
    "    data_dir,\n",
    "    target_size=(128, 128),\n",
    "    batch_size=32,\n",
    "    class_mode='categorical',\n",
    "    subset='training'\n",
    ")\n",
    "\n",
    "val_generator = train_datagen.flow_from_directory(\n",
    "    data_dir,\n",
    "    target_size=(128, 128),\n",
    "    batch_size=32,\n",
    "    class_mode='categorical',\n",
    "    subset='validation'\n",
    ")\n"
   ]
  },
  {
   "cell_type": "markdown",
   "id": "775364bd",
   "metadata": {},
   "source": [
    "## 🧠 3. Build and Train CNN Model"
   ]
  },
  {
   "cell_type": "code",
   "execution_count": null,
   "id": "0fef192d",
   "metadata": {},
   "outputs": [],
   "source": [
    "model = tf.keras.models.Sequential([\n",
    "    tf.keras.layers.Conv2D(32, (3,3), activation='relu', input_shape=(128,128,3)),\n",
    "    tf.keras.layers.MaxPooling2D(2,2),\n",
    "    tf.keras.layers.Conv2D(64, (3,3), activation='relu'),\n",
    "    tf.keras.layers.MaxPooling2D(2,2),\n",
    "    tf.keras.layers.Conv2D(128, (3,3), activation='relu'),\n",
    "    tf.keras.layers.MaxPooling2D(2,2),\n",
    "    tf.keras.layers.Flatten(),\n",
    "    tf.keras.layers.Dense(512, activation='relu'),\n",
    "    tf.keras.layers.Dense(train_generator.num_classes, activation='softmax')\n",
    "])\n",
    "\n",
    "model.compile(optimizer='adam', loss='categorical_crossentropy', metrics=['accuracy'])\n",
    "model.summary()\n",
    "\n",
    "# Train the model\n",
    "history = model.fit(train_generator, validation_data=val_generator, epochs=10)\n"
   ]
  },
  {
   "cell_type": "markdown",
   "id": "565b304e",
   "metadata": {},
   "source": [
    "## 📈 4. Evaluate Model & Plot Accuracy"
   ]
  },
  {
   "cell_type": "code",
   "execution_count": null,
   "id": "0c4a6e20",
   "metadata": {},
   "outputs": [],
   "source": [
    "import matplotlib.pyplot as plt\n",
    "\n",
    "plt.plot(history.history['accuracy'], label='Train Accuracy')\n",
    "plt.plot(history.history['val_accuracy'], label='Validation Accuracy')\n",
    "plt.xlabel('Epoch')\n",
    "plt.ylabel('Accuracy')\n",
    "plt.legend()\n",
    "plt.title('Training vs Validation Accuracy')\n",
    "plt.show()\n"
   ]
  },
  {
   "cell_type": "markdown",
   "id": "ac2a541a",
   "metadata": {},
   "source": [
    "## 🧮 5. Calorie Estimation (Example Mapping)"
   ]
  },
  {
   "cell_type": "code",
   "execution_count": null,
   "id": "907c6c8d",
   "metadata": {},
   "outputs": [],
   "source": [
    "# Simple example: map food labels to estimated calories\n",
    "food_calories = {\n",
    "    'apple_pie': 300,\n",
    "    'pizza': 285,\n",
    "    'sushi': 200,\n",
    "    'ice_cream': 210,\n",
    "    # Add more manually...\n",
    "}\n",
    "\n",
    "# Example usage\n",
    "predicted_class = 'apple_pie'\n",
    "print(f\"Predicted food: {predicted_class} | Estimated calories: {food_calories.get(predicted_class, 'N/A')} kcal\")\n"
   ]
  }
 ],
 "metadata": {},
 "nbformat": 4,
 "nbformat_minor": 5
}
